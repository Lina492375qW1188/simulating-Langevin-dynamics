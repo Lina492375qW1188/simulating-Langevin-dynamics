{
 "cells": [
  {
   "cell_type": "code",
   "execution_count": 2,
   "metadata": {},
   "outputs": [],
   "source": [
    "import os\n",
    "import time\n",
    "import numpy as np\n",
    "\n",
    "import reweightT\n",
    "from FileProcessingT import save_with_backup"
   ]
  },
  {
   "cell_type": "markdown",
   "metadata": {},
   "source": [
    "# Reweight entropic fields"
   ]
  },
  {
   "cell_type": "code",
   "execution_count": 7,
   "metadata": {},
   "outputs": [
    {
     "name": "stdout",
     "output_type": "stream",
     "text": [
      "Attention: File with name './test_entropic/biased/reweighting_factor.txt' already exists. New backup file './test_entropic/biased/reweighting_factor.txt.bck0' has been created!\n",
      "File has been saved successfully.\n",
      "3.5053911209106445 s\n"
     ]
    }
   ],
   "source": [
    "start = time.time()\n",
    "\n",
    "beta=5\n",
    "Rout=100\n",
    "\n",
    "# Read biased data:\n",
    "filename = './test_entropic/biased/xvyw1beta5.0gammax1.0gammay1.0_h0.01.txt'\n",
    "x, y, hbias, xbias, ybias = np.loadtxt(filename, unpack=True, usecols=(0,1, 6,7,8), skiprows=1)\n",
    "\n",
    "# Parameters:\n",
    "coeff = (1.0, 0.0)\n",
    "stride = 100\n",
    "stride = stride//Rout # (unit: lines), stride = 1000 steps\n",
    "wbias = 0.1\n",
    "delta_beta = 0.5\n",
    "ds = 0.1\n",
    "\n",
    "# Define bias factor\n",
    "T, dT = 1/beta, 1/delta_beta\n",
    "bias_factor = (T+dT)/T\n",
    "\n",
    "# Data:\n",
    "s = coeff[0]*x + coeff[1]*y\n",
    "sbias = coeff[0]*xbias + coeff[1]*ybias\n",
    "\n",
    "# Create rw\n",
    "rw = reweightT.reweight(s, beta, hbias, sbias, wbias, bias_factor, stride, ds)\n",
    "\n",
    "# Compute weights\n",
    "weights = rw.compute()\n",
    "\n",
    "save_with_backup('./test_entropic/biased/reweighting_factor.txt', weights)\n",
    "\n",
    "print(time.time()-start, 's')"
   ]
  },
  {
   "cell_type": "markdown",
   "metadata": {},
   "source": [
    "# Reweight double well"
   ]
  },
  {
   "cell_type": "code",
   "execution_count": 12,
   "metadata": {},
   "outputs": [
    {
     "name": "stdout",
     "output_type": "stream",
     "text": [
      "No file named './test_double_well/biased/reweighting_factor.txt' exist. Will save a new one now.\n",
      "File has been saved successfully.\n",
      "27.04335308074951 s\n"
     ]
    }
   ],
   "source": [
    "start = time.time()\n",
    "\n",
    "beta=3\n",
    "Rout=10\n",
    "\n",
    "# Read biased data:\n",
    "filename = './test_double_well/biased/xvyw1beta3.0gammax1.0gammay1.0_h0.1.txt'\n",
    "x, y, hbias, xbias, ybias = np.loadtxt(filename, unpack=True, usecols=(0,1, 6,7,8), skiprows=1)\n",
    "\n",
    "# Parameters:\n",
    "coeff = (1.0, 0.0)\n",
    "stride = 10\n",
    "stride = stride//Rout # (unit: lines), stride = 1000 steps\n",
    "wbias = 0.1\n",
    "delta_beta = 0.5\n",
    "ds = 0.1\n",
    "\n",
    "# Define bias factor\n",
    "T, dT = 1/beta, 1/delta_beta\n",
    "bias_factor = (T+dT)/T\n",
    "\n",
    "# Data:\n",
    "s = coeff[0]*x + coeff[1]*y\n",
    "sbias = coeff[0]*xbias + coeff[1]*ybias\n",
    "\n",
    "# Create rw\n",
    "rw = reweightT.reweight(s, beta, hbias, sbias, wbias, bias_factor, stride, ds)\n",
    "\n",
    "# Compute weights\n",
    "weights = rw.compute()\n",
    "\n",
    "save_with_backup('./test_double_well/biased/reweighting_factor.txt', weights)\n",
    "\n",
    "print(time.time()-start, 's')"
   ]
  },
  {
   "cell_type": "markdown",
   "metadata": {},
   "source": [
    "# Reweight Diamond 4s"
   ]
  },
  {
   "cell_type": "code",
   "execution_count": 13,
   "metadata": {},
   "outputs": [
    {
     "name": "stdout",
     "output_type": "stream",
     "text": [
      "No file named './test_Diamond4s/biased/reweighting_factor.txt' exist. Will save a new one now.\n",
      "File has been saved successfully.\n",
      "14.764832019805908 s\n"
     ]
    }
   ],
   "source": [
    "start = time.time()\n",
    "\n",
    "beta=2.5\n",
    "Rout=100\n",
    "\n",
    "# Read biased data:\n",
    "filename = './test_Diamond4s/biased/xvyw1beta2.5gammax1.0gammay1.0_h0.01.txt'\n",
    "x, y, hbias, xbias, ybias = np.loadtxt(filename, unpack=True, usecols=(0,1, 6,7,8), skiprows=1)\n",
    "\n",
    "# Parameters:\n",
    "coeff = (1.0, 0.0)\n",
    "stride = 100\n",
    "stride = stride//Rout # (unit: lines), stride = 1000 steps\n",
    "wbias = 0.1\n",
    "delta_beta = 0.5\n",
    "ds = 0.1\n",
    "\n",
    "# Define bias factor\n",
    "T, dT = 1/beta, 1/delta_beta\n",
    "bias_factor = (T+dT)/T\n",
    "\n",
    "# Data:\n",
    "s = coeff[0]*x + coeff[1]*y\n",
    "sbias = coeff[0]*xbias + coeff[1]*ybias\n",
    "\n",
    "# Create rw\n",
    "rw = reweightT.reweight(s, beta, hbias, sbias, wbias, bias_factor, stride, ds)\n",
    "\n",
    "# Compute weights\n",
    "weights = rw.compute()\n",
    "\n",
    "save_with_backup('./test_Diamond4s/biased/reweighting_factor.txt', weights)\n",
    "\n",
    "print(time.time()-start, 's')"
   ]
  },
  {
   "cell_type": "markdown",
   "metadata": {},
   "source": [
    "# Reweight Triangular 3s"
   ]
  },
  {
   "cell_type": "code",
   "execution_count": 14,
   "metadata": {},
   "outputs": [
    {
     "name": "stdout",
     "output_type": "stream",
     "text": [
      "No file named './test_Triangular3s/biased/reweighting_factor.txt' exist. Will save a new one now.\n",
      "File has been saved successfully.\n",
      "33.22741889953613 s\n"
     ]
    }
   ],
   "source": [
    "start = time.time()\n",
    "\n",
    "beta=2.5\n",
    "Rout=100\n",
    "\n",
    "# Read biased data:\n",
    "filename = './test_Triangular3s/biased/xvyw1beta2.5gammax1.0gammay1.0_h0.01.txt'\n",
    "x, y, hbias, xbias, ybias = np.loadtxt(filename, unpack=True, usecols=(0,1, 6,7,8), skiprows=1)\n",
    "\n",
    "# Parameters:\n",
    "coeff = (1.0, 0.0)\n",
    "stride = 100\n",
    "stride = stride//Rout # (unit: lines), stride = 1000 steps\n",
    "wbias = 0.1\n",
    "delta_beta = 0.5\n",
    "ds = 0.1\n",
    "\n",
    "# Define bias factor\n",
    "T, dT = 1/beta, 1/delta_beta\n",
    "bias_factor = (T+dT)/T\n",
    "\n",
    "# Data:\n",
    "s = coeff[0]*x + coeff[1]*y\n",
    "sbias = coeff[0]*xbias + coeff[1]*ybias\n",
    "\n",
    "# Create rw\n",
    "rw = reweightT.reweight(s, beta, hbias, sbias, wbias, bias_factor, stride, ds)\n",
    "\n",
    "# Compute weights\n",
    "weights = rw.compute()\n",
    "\n",
    "save_with_backup('./test_Triangular3s/biased/reweighting_factor.txt', weights)\n",
    "\n",
    "print(time.time()-start, 's')"
   ]
  }
 ],
 "metadata": {
  "kernelspec": {
   "display_name": "Python 3",
   "language": "python",
   "name": "python3"
  },
  "language_info": {
   "codemirror_mode": {
    "name": "ipython",
    "version": 3
   },
   "file_extension": ".py",
   "mimetype": "text/x-python",
   "name": "python",
   "nbconvert_exporter": "python",
   "pygments_lexer": "ipython3",
   "version": "3.7.3"
  }
 },
 "nbformat": 4,
 "nbformat_minor": 2
}
