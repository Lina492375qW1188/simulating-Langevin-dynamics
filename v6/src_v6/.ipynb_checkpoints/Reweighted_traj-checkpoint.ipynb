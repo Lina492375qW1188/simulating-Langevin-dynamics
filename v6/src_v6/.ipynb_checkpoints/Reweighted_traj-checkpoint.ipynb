{
 "cells": [
  {
   "cell_type": "code",
   "execution_count": 28,
   "metadata": {},
   "outputs": [],
   "source": [
    "import os\n",
    "import time\n",
    "import numpy as np\n",
    "\n",
    "import reweightT\n",
    "from FileProcessingT import save_with_backup"
   ]
  },
  {
   "cell_type": "code",
   "execution_count": 36,
   "metadata": {},
   "outputs": [],
   "source": [
    "beta=5\n",
    "Rout=100"
   ]
  },
  {
   "cell_type": "code",
   "execution_count": 38,
   "metadata": {},
   "outputs": [
    {
     "name": "stdout",
     "output_type": "stream",
     "text": [
      "No file named './output/biased/reweighting_factor.txt' exist. Will save a new one now.\n",
      "File has been saved successfully.\n",
      "2.0152628421783447 s\n"
     ]
    }
   ],
   "source": [
    "start = time.time()\n",
    "\n",
    "# Read biased data:\n",
    "filename = './output/biased/xvyw1beta5.0gammax1.0gammay1.0_h0.01.txt'\n",
    "x, y, hbias, xbias, ybias = np.loadtxt(filename, unpack=True, usecols=(0,1, 6,7,8), skiprows=1)\n",
    "\n",
    "# Parameters:\n",
    "coeff = (1.0, 0.0)\n",
    "stride = 100\n",
    "stride = stride//Rout # (unit: lines), stride = 1000 steps\n",
    "wbias = 0.1\n",
    "delta_beta = 0.5\n",
    "ds = 0.1\n",
    "\n",
    "# Define bias factor\n",
    "T, dT = 1/beta, 1/delta_beta\n",
    "bias_factor = (T+dT)/T\n",
    "\n",
    "# Data:\n",
    "s = coeff[0]*x + coeff[1]*y\n",
    "sbias = coeff[0]*xbias + coeff[1]*ybias\n",
    "\n",
    "# Create rw\n",
    "rw = reweightT.reweight(s, beta, hbias, sbias, wbias, bias_factor, stride, ds)\n",
    "\n",
    "# Compute weights\n",
    "weights = rw.compute()\n",
    "\n",
    "save_with_backup('./output/biased/reweighting_factor.txt', weights)\n",
    "\n",
    "print(time.time()-start, 's')"
   ]
  }
 ],
 "metadata": {
  "kernelspec": {
   "display_name": "Python 3",
   "language": "python",
   "name": "python3"
  },
  "language_info": {
   "codemirror_mode": {
    "name": "ipython",
    "version": 3
   },
   "file_extension": ".py",
   "mimetype": "text/x-python",
   "name": "python",
   "nbconvert_exporter": "python",
   "pygments_lexer": "ipython3",
   "version": "3.7.3"
  }
 },
 "nbformat": 4,
 "nbformat_minor": 2
}
